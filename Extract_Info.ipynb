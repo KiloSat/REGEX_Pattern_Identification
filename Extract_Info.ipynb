{
 "cells": [
  {
   "cell_type": "code",
   "execution_count": 1,
   "metadata": {},
   "outputs": [],
   "source": [
    "import re"
   ]
  },
  {
   "cell_type": "code",
   "execution_count": 9,
   "metadata": {},
   "outputs": [],
   "source": [
    "input_text = '''Carlisle Farm Specialist F-1 Farm Tire - 12.5L-15 LRF/12 ply (Wheel Not Included)       \n",
    "Evergreen EU72 205/50ZR16 OWL87W RT-5 Truck tire                                        \n",
    "Goodyear Marathon Trailer Tire w/Galvanized Rim ST215/75R14 LRC (5 Lug On 4.5)          \n",
    "1 X New Achilles \\\"ATR Sport\\\" 265/35ZR18 97W XL High Performance Tires 265/35/18       \n",
    "Set of 2 ZEEMAX Heavy Duty All Steel ST235/85R16-14PR TL Trailer Tire - 11073           \n",
    "1 X New Lexani LXHT-106 LT285/70R17/8 118Q BW All Season Performance SUV Tires          \n",
    "1 X New Nankang N889 Mudstar M/T LT245/75R16 120/116N E/10 Ply ROWL Mud Tires MT        \n",
    "Pirelli Night Dragon Motorcycle Front Tire 130/90-16 2211500'''\n",
    "#(Extract : 12.5L-15 LRF/12)\n",
    "#(Extract : 205/50ZR16 OWL87W)\n",
    "#(Extract : 265/35ZR18 97W XL)\n",
    "#(Extract : 130/90-16 )\n",
    "#(Extract : ST215/75R14 )\n",
    "#(Extract : ST235/85R16-14PR TL)\n",
    "#(Extract : LT285/70R17/8 118Q BW)\n",
    "#(Extract : LT245/75R16 120/116N E/10)\n",
    "\n"
   ]
  },
  {
   "cell_type": "code",
   "execution_count": 10,
   "metadata": {
    "scrolled": true
   },
   "outputs": [],
   "source": [
    "pattern = re.compile(r'(([A-Z][A-Z]\\d\\d\\d/\\d\\d\\D\\d\\d(.[0-9]......([A-Z].([A-Z]...)?)?)?)|(\\d\\d\\d/\\d\\d\\D\\D?\\d\\d\\s\\b(\\w\\w\\w.\\w[A-Z])?)|(\\d\\d\\.............))')\n",
    "matches = pattern.finditer(input_text)\n"
   ]
  },
  {
   "cell_type": "code",
   "execution_count": 11,
   "metadata": {},
   "outputs": [
    {
     "name": "stdout",
     "output_type": "stream",
     "text": [
      "12.5L-15 LRF/12\n",
      "205/50ZR16 OWL87W\n",
      "ST215/75R14\n",
      "265/35ZR18 97W XL\n",
      "ST235/85R16-14PR TL\n",
      "LT285/70R17/8 118Q BW\n",
      "LT245/75R16 120/116N E/10\n",
      "130/90-16 \n"
     ]
    }
   ],
   "source": [
    "location = []\n",
    "for i in matches:\n",
    "    location.append(list(i.span()))\n",
    "for i in range(len(location)):\n",
    "    print(input_text[location[i][0]:location[i][1]])"
   ]
  },
  {
   "cell_type": "code",
   "execution_count": null,
   "metadata": {},
   "outputs": [],
   "source": []
  }
 ],
 "metadata": {
  "kernelspec": {
   "display_name": "Python 3",
   "language": "python",
   "name": "python3"
  },
  "language_info": {
   "codemirror_mode": {
    "name": "ipython",
    "version": 3
   },
   "file_extension": ".py",
   "mimetype": "text/x-python",
   "name": "python",
   "nbconvert_exporter": "python",
   "pygments_lexer": "ipython3",
   "version": "3.7.6"
  }
 },
 "nbformat": 4,
 "nbformat_minor": 4
}
