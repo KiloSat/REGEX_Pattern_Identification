{
 "cells": [
  {
   "cell_type": "raw",
   "metadata": {},
   "source": [
    "REGEX CHEAT SHEET\n",
    "\n",
    "FOLLOWING ARE THE CHARACTERS AND QUANTIFIERS\n",
    "\n",
    ". Period, matches a single character of any single character, \n",
    "except the end of a line. For example, the below regex matches shirt, short and any character between sh and rt.\n",
    "\n",
    "\n",
    "sh.rt\n",
    "^ Carat, matches a term if the term appears at the beginning of a paragraph or a line. \n",
    "For example, the below regex matches a paragraph or a line starts with Apple.\n",
    "\n",
    "\n",
    "^Apple\n",
    "^ Carat inside a bracket, for example, the below regex matches any characters but a, b, c, d, e.\n",
    "\n",
    "\n",
    "[^a-e]\n",
    "$ Dollar sign, matches a term if the term appears at the end of a paragraph or a line. \n",
    "For example, the below regex matches a paragraph or a line ends with bye.\n",
    "\n",
    "\n",
    "bye$\n",
    "[ ] Square brackets, matches any single character from within the bracketed list. \n",
    "For example, the below regex matches bad, bed, bcd, brd, and bod.\n",
    "\n",
    "\n",
    "b[aecro]d\n",
    "– Hyphen, used for representing a range of letters or numbers,often used inside a square bracket. \n",
    "For example, the below regex matches kam, kbm, kcm, k2m, k3m, k4m and k5m.\n",
    "\n",
    "\n",
    "k[a-c2-5]m\n",
    "( ) Parentheses, groups one or more regular expressions. \n",
    "For example, the below regex matches codexpedia.com, codexpedia.net, and codexpedia.org.\n",
    "\n",
    "\n",
    "codexpedia\\.(com|net|org)\n",
    "{n} Curly brackets with 1 number inside it, matches exactly n times of the preceding character. \n",
    "For example, the below regular expression matches 4 digits string, and only four digits string because there is ^ at the beginninga nd $ at the end of the regex.\n",
    "\n",
    "\n",
    "^[\\d]{4}$\n",
    "{n,m} Curly brackets with 2 numbers inside it, matches minimum and maximum number of times of the preceding character. \n",
    "For example, the below regular expression matches google, gooogle and goooogle.\n",
    "\n",
    "\n",
    "go{2,4}gle\n",
    "{n,}, Curly brackets with a number and a comma, matches minimum number of times the preceding character. \n",
    "For example, the below regex matches google, gooogle, gooooogle, goooooogle, ….\n",
    "\n",
    "\n",
    "go{2,}gle\n",
    "| Pipe, matches either the regular expression preceding it or the regular expression following it. \n",
    "For example, the below regex matches the date format of MM/DD/YYYY, MM.DD.YYYY and MM-DD-YYY. It also matches MM.DD-YYYY, etc.\n",
    "\n",
    "\n",
    "^(0[1-9]|1[012])[-/.](0[1-9]|[12][0-9]|3[01])[-/.][0-9]{4}$\n",
    "? Question mark, matches 1 or 0 character in front of the question mark. \n",
    "For example, the below regular expression matches apple and apples.\n",
    "\n",
    "\n",
    "apples?\n",
    "* Asterisk, matches 0 or more characters in front of the asterisk. \n",
    "For example, the below regular expression matches cl,col,cool,cool,…,coooooooooool,…\n",
    "\n",
    "\n",
    "co*l\n",
    "+ Plus, matches 1 or more characters in fron of the plus. \n",
    "For example, the below regular expression matches col,cool,…,cooooooooooool,…\n",
    "\n",
    "\n",
    "co+l\n",
    "! Exclamation, do not matches the next character or regular expression. \n",
    "For example, the below regular expression matches the the characher q if the charachter after q is not a digit, it will matches the q in those strings of abdqk, quit, qeig, but not q2kd, sdkq8d.\n",
    "\n",
    "\n",
    "q(?![0-9])\n",
    "\\ Backslash, turns off the special meaning of the next character. \n",
    "For example, the below regex treats the period as a normal character and it matches a.b only.\n",
    "\n",
    "\n",
    "a\\.b\n",
    "\\b Backslash and b, matches a word boundary. For example, “\\bwater” finds “watergun” but not “cleanwater” whereas “water\\b” finds “cleanwater” but not “watergun”.\n",
    "\\n Backslash and n, represents a line break.\n",
    "\\t Backslash and t, represents a tab.\n",
    "\\w Backslash and w, it is equivalent to [a-zA-Z0-9_], matches alphanumeric character or underscore. \n",
    "Conversely, Capital \\W will match non-alphnumeric character and not underscore.\n",
    "\\d Backslash and d, matches digits 0 to 9, equivalent to [0-9] or [:digit]\n",
    "[:alpha:] or [A-Za-z] represents an alphabetic character.\n",
    "[:digit:] or [0-9] or [\\d] represents a digit.\n",
    "[:alnum:] or [A-Za-z0-9] represents an alphanumeric character.\n",
    "\n",
    "This regex matches email addresses\n",
    "\n",
    "\n",
    "\\b[A-Za-z0-9._%+-]+@[A-Za-z0-9.-]+\\.[A-Za-z]{2,4}\\b\n",
    "This regex matches websites links ending with sites of .com, .org, .edu, .gov and .us\n",
    "\n",
    "\n",
    "https?://(www\\.)?[A-Za-z0-9]+\\.(com|org|edu|gov|us)/?.*\n",
    "This regex matches social security numbers.\n",
    "\n",
    "\n",
    "^[0-9]{3}-[0-9]{2}-[0-9]{4}$"
   ]
  },
  {
   "cell_type": "code",
   "execution_count": 1,
   "metadata": {},
   "outputs": [],
   "source": [
    "import re"
   ]
  },
  {
   "cell_type": "code",
   "execution_count": 9,
   "metadata": {},
   "outputs": [],
   "source": [
    "input_text = '''Carlisle Farm Specialist F-1 Farm Tire - 12.5L-15 LRF/12 ply (Wheel Not Included)       \n",
    "Evergreen EU72 205/50ZR16 OWL87W RT-5 Truck tire                                        \n",
    "Goodyear Marathon Trailer Tire w/Galvanized Rim ST215/75R14 LRC (5 Lug On 4.5)          \n",
    "1 X New Achilles \\\"ATR Sport\\\" 265/35ZR18 97W XL High Performance Tires 265/35/18       \n",
    "Set of 2 ZEEMAX Heavy Duty All Steel ST235/85R16-14PR TL Trailer Tire - 11073           \n",
    "1 X New Lexani LXHT-106 LT285/70R17/8 118Q BW All Season Performance SUV Tires          \n",
    "1 X New Nankang N889 Mudstar M/T LT245/75R16 120/116N E/10 Ply ROWL Mud Tires MT        \n",
    "Pirelli Night Dragon Motorcycle Front Tire 130/90-16 2211500'''\n",
    "#(Extract : 12.5L-15 LRF/12)\n",
    "#(Extract : 205/50ZR16 OWL87W)\n",
    "#(Extract : 265/35ZR18 97W XL)\n",
    "#(Extract : 130/90-16 )\n",
    "#(Extract : ST215/75R14 )\n",
    "#(Extract : ST235/85R16-14PR TL)\n",
    "#(Extract : LT285/70R17/8 118Q BW)\n",
    "#(Extract : LT245/75R16 120/116N E/10)\n",
    "\n"
   ]
  },
  {
   "cell_type": "code",
   "execution_count": 10,
   "metadata": {
    "scrolled": true
   },
   "outputs": [],
   "source": [
    "pattern = re.compile(r'(([A-Z][A-Z]\\d\\d\\d/\\d\\d\\D\\d\\d(.[0-9]......([A-Z].([A-Z]...)?)?)?)|(\\d\\d\\d/\\d\\d\\D\\D?\\d\\d\\s\\b(\\w\\w\\w.\\w[A-Z])?)|(\\d\\d\\.............))')\n",
    "matches = pattern.finditer(input_text)\n"
   ]
  },
  {
   "cell_type": "code",
   "execution_count": 11,
   "metadata": {},
   "outputs": [
    {
     "name": "stdout",
     "output_type": "stream",
     "text": [
      "12.5L-15 LRF/12\n",
      "205/50ZR16 OWL87W\n",
      "ST215/75R14\n",
      "265/35ZR18 97W XL\n",
      "ST235/85R16-14PR TL\n",
      "LT285/70R17/8 118Q BW\n",
      "LT245/75R16 120/116N E/10\n",
      "130/90-16 \n"
     ]
    }
   ],
   "source": [
    "location = []\n",
    "for i in matches:\n",
    "    location.append(list(i.span()))\n",
    "for i in range(len(location)):\n",
    "    print(input_text[location[i][0]:location[i][1]])"
   ]
  },
  {
   "cell_type": "code",
   "execution_count": null,
   "metadata": {},
   "outputs": [],
   "source": []
  }
 ],
 "metadata": {
  "kernelspec": {
   "display_name": "Python 3",
   "language": "python",
   "name": "python3"
  },
  "language_info": {
   "codemirror_mode": {
    "name": "ipython",
    "version": 3
   },
   "file_extension": ".py",
   "mimetype": "text/x-python",
   "name": "python",
   "nbconvert_exporter": "python",
   "pygments_lexer": "ipython3",
   "version": "3.7.6"
  }
 },
 "nbformat": 4,
 "nbformat_minor": 4
}
